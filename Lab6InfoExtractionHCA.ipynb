{
 "cells": [
  {
   "cell_type": "code",
   "execution_count": 54,
   "id": "18773b73-01f6-4f58-bc57-4720cc2a8210",
   "metadata": {},
   "outputs": [],
   "source": [
    "from sklearn.feature_extraction.text import CountVectorizer\n",
    "from sklearn.naive_bayes import MultinomialNB\n",
    "import re"
   ]
  },
  {
   "cell_type": "code",
   "execution_count": 55,
   "id": "a7eb93ed-d073-4bee-9096-42c357836835",
   "metadata": {},
   "outputs": [],
   "source": [
    "import pandas as pd\n",
    "\n",
    "clinical_data = {\n",
    "    \"Patient ID: 001, Age: 45, Diagnosis: Diabetes\",\n",
    "    \"Patient ID: 002, Age: 60, Diagnosis: Hypertension\",\n",
    "    \"Patient ID: 003, Age: 29, Diagnosis: Diabetes\",\n",
    "    \"Patient ID: 004, Age: 40, Diagnosis: BloodPressure\",\n",
    "    \"Patient ID: 005, Age: 52, Diagnosis: Depression\"\n",
    "}\n",
    "#df = pd.DataFrame(clinical_data)\n",
    "#print(df)"
   ]
  },
  {
   "cell_type": "code",
   "execution_count": 56,
   "id": "68887445-2098-45e2-8b25-e782e70b2b17",
   "metadata": {},
   "outputs": [],
   "source": [
    "#Rule-Based Approach\n",
    "def rule_based_extraction(data):\n",
    "    return [re.findall(r'Patient ID: (\\d+), Age: (\\d+), Diagnosis: (\\w+)', record) for record in data]\n"
   ]
  },
  {
   "cell_type": "code",
   "execution_count": 57,
   "id": "a3e253fa-a933-47c9-9a49-6ea7b54c73f4",
   "metadata": {},
   "outputs": [],
   "source": [
    "#Patterns-based approach using text patters\n",
    "def pattern_based_extraction(data):\n",
    "    patterns = [\"Patient ID\", \"Age\", \"Diagnosis\"]\n",
    "    extracted_data = []\n",
    "    for record in data:\n",
    "        record_data = []\n",
    "        for pattern in patterns:\n",
    "            match = re.search(f'{pattern}: (\\w+)', record)\n",
    "            record_data.append(match.group(1) if match else None)\n",
    "        extracted_data.append(tuple(record_data))\n",
    "    return extracted_data"
   ]
  },
  {
   "cell_type": "code",
   "execution_count": 58,
   "id": "1b40ab02-65e3-458f-ba49-39ef54cb7c57",
   "metadata": {},
   "outputs": [],
   "source": [
    "#Machine Learning approach using Naive Bayes\n",
    "def machine_learning_extraction(data):\n",
    "    vectorizer = CountVectorizer()\n",
    "    X = vectorizer.fit_transform(data)\n",
    "    y = [record.split(\", \")[2].split(\": \")[1] for record in data]\n",
    "    clf = MultinomialNB().fit(X, y)\n",
    "    predictions = clf.predict(X)\n",
    "    return list(zip([record.split(\", \")[0].split(\": \")[1] for record in data], y, predictions))"
   ]
  },
  {
   "cell_type": "code",
   "execution_count": 59,
   "id": "a5bbaff7-ae97-4cb1-a8f6-cec31d3b5d9d",
   "metadata": {},
   "outputs": [],
   "source": [
    "#Extracting structured data using different approaches\n",
    "rule_based_result = rule_based_extraction(clinical_data)\n",
    "pattern_based_result = pattern_based_extraction(clinical_data)\n",
    "machinelearning_based_result = machine_learning_extraction(clinical_data)"
   ]
  },
  {
   "cell_type": "code",
   "execution_count": 60,
   "id": "ee4fabaf-8754-4065-8c79-3f7e12d29fac",
   "metadata": {},
   "outputs": [
    {
     "name": "stdout",
     "output_type": "stream",
     "text": [
      "Rule-based Extraction: [[('004', '40', 'BloodPressure')], [('001', '45', 'Diabetes')], [('003', '29', 'Diabetes')], [('002', '60', 'Hypertension')], [('005', '52', 'Depression')]]\n",
      "Pattern-based Extraction: [('004', '40', 'BloodPressure'), ('001', '45', 'Diabetes'), ('003', '29', 'Diabetes'), ('002', '60', 'Hypertension'), ('005', '52', 'Depression')]\n",
      "MachineLearning-based Extraction: [('004', 'BloodPressure', 'BloodPressure'), ('001', 'Diabetes', 'Diabetes'), ('003', 'Diabetes', 'Diabetes'), ('002', 'Hypertension', 'Hypertension'), ('005', 'Depression', 'Depression')]\n"
     ]
    }
   ],
   "source": [
    "#Displaying the result\n",
    "print(\"Rule-based Extraction:\", rule_based_result)\n",
    "print(\"Pattern-based Extraction:\", pattern_based_result)\n",
    "print(\"MachineLearning-based Extraction:\", machinelearning_based_result)"
   ]
  },
  {
   "cell_type": "code",
   "execution_count": 62,
   "id": "7975b9fd-6df1-4302-9bd7-cdf54c2ee075",
   "metadata": {},
   "outputs": [
    {
     "name": "stdout",
     "output_type": "stream",
     "text": [
      "Rule-based Extraction:\n",
      "[   [('004', '40', 'BloodPressure')],\n",
      "    [('001', '45', 'Diabetes')],\n",
      "    [('003', '29', 'Diabetes')],\n",
      "    [('002', '60', 'Hypertension')],\n",
      "    [('005', '52', 'Depression')]]\n",
      "\n",
      "Pattern-based Extraction:\n",
      "[   ('004', '40', 'BloodPressure'),\n",
      "    ('001', '45', 'Diabetes'),\n",
      "    ('003', '29', 'Diabetes'),\n",
      "    ('002', '60', 'Hypertension'),\n",
      "    ('005', '52', 'Depression')]\n",
      "\n",
      "Machine Learning Extraction:\n",
      "[   ('004', 'BloodPressure', 'BloodPressure'),\n",
      "    ('001', 'Diabetes', 'Diabetes'),\n",
      "    ('003', 'Diabetes', 'Diabetes'),\n",
      "    ('002', 'Hypertension', 'Hypertension'),\n",
      "    ('005', 'Depression', 'Depression')]\n"
     ]
    }
   ],
   "source": [
    "import pprint\n",
    "\n",
    "print(\"Rule-based Extraction:\")\n",
    "pprint.pprint(rule_based_result, indent=4, width=80)\n",
    "\n",
    "print(\"\\nPattern-based Extraction:\")\n",
    "pprint.pprint(pattern_based_result, indent=4, width=80)\n",
    "\n",
    "print(\"\\nMachine Learning Extraction:\")\n",
    "pprint.pprint(machinelearning_based_result, indent=4, width=80)"
   ]
  },
  {
   "cell_type": "code",
   "execution_count": null,
   "id": "c8f6d675-c751-4655-89d0-f480ff223c17",
   "metadata": {},
   "outputs": [],
   "source": []
  }
 ],
 "metadata": {
  "kernelspec": {
   "display_name": "Python 3 (ipykernel)",
   "language": "python",
   "name": "python3"
  },
  "language_info": {
   "codemirror_mode": {
    "name": "ipython",
    "version": 3
   },
   "file_extension": ".py",
   "mimetype": "text/x-python",
   "name": "python",
   "nbconvert_exporter": "python",
   "pygments_lexer": "ipython3",
   "version": "3.11.4"
  }
 },
 "nbformat": 4,
 "nbformat_minor": 5
}
