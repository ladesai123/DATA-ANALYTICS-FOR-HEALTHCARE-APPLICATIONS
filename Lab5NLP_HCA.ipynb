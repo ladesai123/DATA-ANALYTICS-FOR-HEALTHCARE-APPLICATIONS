{
 "cells": [
  {
   "cell_type": "code",
   "execution_count": 82,
   "id": "5d371899-ce8e-4fe5-b52b-2f3823bec70b",
   "metadata": {},
   "outputs": [
    {
     "name": "stdout",
     "output_type": "stream",
     "text": [
      "Defaulting to user installation because normal site-packages is not writeable\n",
      "Requirement already satisfied: spacy in c:\\users\\dsl-189\\appdata\\roaming\\python\\python311\\site-packages (3.8.4)\n",
      "Requirement already satisfied: spacy-legacy<3.1.0,>=3.0.11 in c:\\users\\dsl-189\\appdata\\roaming\\python\\python311\\site-packages (from spacy) (3.0.12)\n",
      "Requirement already satisfied: spacy-loggers<2.0.0,>=1.0.0 in c:\\users\\dsl-189\\appdata\\roaming\\python\\python311\\site-packages (from spacy) (1.0.5)\n",
      "Requirement already satisfied: murmurhash<1.1.0,>=0.28.0 in c:\\users\\dsl-189\\appdata\\roaming\\python\\python311\\site-packages (from spacy) (1.0.12)\n",
      "Requirement already satisfied: cymem<2.1.0,>=2.0.2 in c:\\users\\dsl-189\\appdata\\roaming\\python\\python311\\site-packages (from spacy) (2.0.11)\n",
      "Requirement already satisfied: preshed<3.1.0,>=3.0.2 in c:\\users\\dsl-189\\appdata\\roaming\\python\\python311\\site-packages (from spacy) (3.0.9)\n",
      "Requirement already satisfied: thinc<8.4.0,>=8.3.4 in c:\\users\\dsl-189\\appdata\\roaming\\python\\python311\\site-packages (from spacy) (8.3.4)\n",
      "Requirement already satisfied: wasabi<1.2.0,>=0.9.1 in c:\\users\\dsl-189\\appdata\\roaming\\python\\python311\\site-packages (from spacy) (1.1.3)\n",
      "Requirement already satisfied: srsly<3.0.0,>=2.4.3 in c:\\users\\dsl-189\\appdata\\roaming\\python\\python311\\site-packages (from spacy) (2.5.1)\n",
      "Requirement already satisfied: catalogue<2.1.0,>=2.0.6 in c:\\users\\dsl-189\\appdata\\roaming\\python\\python311\\site-packages (from spacy) (2.0.10)\n",
      "Requirement already satisfied: weasel<0.5.0,>=0.1.0 in c:\\users\\dsl-189\\appdata\\roaming\\python\\python311\\site-packages (from spacy) (0.4.1)\n",
      "Requirement already satisfied: typer<1.0.0,>=0.3.0 in c:\\users\\dsl-189\\appdata\\roaming\\python\\python311\\site-packages (from spacy) (0.15.1)\n",
      "Requirement already satisfied: tqdm<5.0.0,>=4.38.0 in c:\\users\\dsl-189\\appdata\\roaming\\python\\python311\\site-packages (from spacy) (4.67.1)\n",
      "Requirement already satisfied: numpy>=1.19.0 in c:\\program files\\python311\\lib\\site-packages (from spacy) (1.26.1)\n",
      "Requirement already satisfied: requests<3.0.0,>=2.13.0 in c:\\program files\\python311\\lib\\site-packages (from spacy) (2.31.0)\n",
      "Requirement already satisfied: pydantic!=1.8,!=1.8.1,<3.0.0,>=1.7.4 in c:\\users\\dsl-189\\appdata\\roaming\\python\\python311\\site-packages (from spacy) (2.10.6)\n",
      "Requirement already satisfied: jinja2 in c:\\program files\\python311\\lib\\site-packages (from spacy) (3.1.2)\n",
      "Requirement already satisfied: setuptools in c:\\program files\\python311\\lib\\site-packages (from spacy) (65.5.0)\n",
      "Requirement already satisfied: packaging>=20.0 in c:\\program files\\python311\\lib\\site-packages (from spacy) (23.2)\n",
      "Requirement already satisfied: langcodes<4.0.0,>=3.2.0 in c:\\users\\dsl-189\\appdata\\roaming\\python\\python311\\site-packages (from spacy) (3.5.0)\n",
      "Requirement already satisfied: language-data>=1.2 in c:\\users\\dsl-189\\appdata\\roaming\\python\\python311\\site-packages (from langcodes<4.0.0,>=3.2.0->spacy) (1.3.0)\n",
      "Requirement already satisfied: annotated-types>=0.6.0 in c:\\users\\dsl-189\\appdata\\roaming\\python\\python311\\site-packages (from pydantic!=1.8,!=1.8.1,<3.0.0,>=1.7.4->spacy) (0.7.0)\n",
      "Requirement already satisfied: pydantic-core==2.27.2 in c:\\users\\dsl-189\\appdata\\roaming\\python\\python311\\site-packages (from pydantic!=1.8,!=1.8.1,<3.0.0,>=1.7.4->spacy) (2.27.2)\n",
      "Requirement already satisfied: typing-extensions>=4.12.2 in c:\\users\\dsl-189\\appdata\\roaming\\python\\python311\\site-packages (from pydantic!=1.8,!=1.8.1,<3.0.0,>=1.7.4->spacy) (4.12.2)\n",
      "Requirement already satisfied: charset-normalizer<4,>=2 in c:\\program files\\python311\\lib\\site-packages (from requests<3.0.0,>=2.13.0->spacy) (3.3.1)\n",
      "Requirement already satisfied: idna<4,>=2.5 in c:\\program files\\python311\\lib\\site-packages (from requests<3.0.0,>=2.13.0->spacy) (3.4)\n",
      "Requirement already satisfied: urllib3<3,>=1.21.1 in c:\\program files\\python311\\lib\\site-packages (from requests<3.0.0,>=2.13.0->spacy) (2.0.7)\n",
      "Requirement already satisfied: certifi>=2017.4.17 in c:\\program files\\python311\\lib\\site-packages (from requests<3.0.0,>=2.13.0->spacy) (2023.7.22)\n",
      "Requirement already satisfied: blis<1.3.0,>=1.2.0 in c:\\users\\dsl-189\\appdata\\roaming\\python\\python311\\site-packages (from thinc<8.4.0,>=8.3.4->spacy) (1.2.0)\n",
      "Requirement already satisfied: confection<1.0.0,>=0.0.1 in c:\\users\\dsl-189\\appdata\\roaming\\python\\python311\\site-packages (from thinc<8.4.0,>=8.3.4->spacy) (0.1.5)\n",
      "Requirement already satisfied: colorama in c:\\program files\\python311\\lib\\site-packages (from tqdm<5.0.0,>=4.38.0->spacy) (0.4.6)\n",
      "Requirement already satisfied: click>=8.0.0 in c:\\program files\\python311\\lib\\site-packages (from typer<1.0.0,>=0.3.0->spacy) (8.1.7)\n",
      "Requirement already satisfied: shellingham>=1.3.0 in c:\\users\\dsl-189\\appdata\\roaming\\python\\python311\\site-packages (from typer<1.0.0,>=0.3.0->spacy) (1.5.4)\n",
      "Requirement already satisfied: rich>=10.11.0 in c:\\users\\dsl-189\\appdata\\roaming\\python\\python311\\site-packages (from typer<1.0.0,>=0.3.0->spacy) (13.9.4)\n",
      "Requirement already satisfied: cloudpathlib<1.0.0,>=0.7.0 in c:\\users\\dsl-189\\appdata\\roaming\\python\\python311\\site-packages (from weasel<0.5.0,>=0.1.0->spacy) (0.20.0)\n",
      "Requirement already satisfied: smart-open<8.0.0,>=5.2.1 in c:\\users\\dsl-189\\appdata\\roaming\\python\\python311\\site-packages (from weasel<0.5.0,>=0.1.0->spacy) (7.1.0)\n",
      "Requirement already satisfied: MarkupSafe>=2.0 in c:\\program files\\python311\\lib\\site-packages (from jinja2->spacy) (2.1.3)\n",
      "Requirement already satisfied: marisa-trie>=1.1.0 in c:\\users\\dsl-189\\appdata\\roaming\\python\\python311\\site-packages (from language-data>=1.2->langcodes<4.0.0,>=3.2.0->spacy) (1.2.1)\n",
      "Requirement already satisfied: markdown-it-py>=2.2.0 in c:\\users\\dsl-189\\appdata\\roaming\\python\\python311\\site-packages (from rich>=10.11.0->typer<1.0.0,>=0.3.0->spacy) (3.0.0)\n",
      "Requirement already satisfied: pygments<3.0.0,>=2.13.0 in c:\\program files\\python311\\lib\\site-packages (from rich>=10.11.0->typer<1.0.0,>=0.3.0->spacy) (2.16.1)\n",
      "Requirement already satisfied: wrapt in c:\\program files\\python311\\lib\\site-packages (from smart-open<8.0.0,>=5.2.1->weasel<0.5.0,>=0.1.0->spacy) (1.14.1)\n",
      "Requirement already satisfied: mdurl~=0.1 in c:\\users\\dsl-189\\appdata\\roaming\\python\\python311\\site-packages (from markdown-it-py>=2.2.0->rich>=10.11.0->typer<1.0.0,>=0.3.0->spacy) (0.1.2)\n"
     ]
    },
    {
     "name": "stderr",
     "output_type": "stream",
     "text": [
      "DEPRECATION: Loading egg at c:\\program files\\python311\\lib\\site-packages\\vboxapi-1.0-py3.11.egg is deprecated. pip 25.1 will enforce this behaviour change. A possible replacement is to use pip for package installation. Discussion can be found at https://github.com/pypa/pip/issues/12330\n",
      "\n",
      "[notice] A new release of pip is available: 24.3.1 -> 25.0.1\n",
      "[notice] To update, run: python.exe -m pip install --upgrade pip\n"
     ]
    },
    {
     "name": "stdout",
     "output_type": "stream",
     "text": [
      "Defaulting to user installation because normal site-packages is not writeable\n",
      "Requirement already satisfied: transformers in c:\\users\\dsl-189\\appdata\\roaming\\python\\python311\\site-packages (4.49.0)\n",
      "Requirement already satisfied: filelock in c:\\program files\\python311\\lib\\site-packages (from transformers) (3.13.1)\n",
      "Requirement already satisfied: huggingface-hub<1.0,>=0.26.0 in c:\\users\\dsl-189\\appdata\\roaming\\python\\python311\\site-packages (from transformers) (0.28.1)\n",
      "Requirement already satisfied: numpy>=1.17 in c:\\program files\\python311\\lib\\site-packages (from transformers) (1.26.1)\n",
      "Requirement already satisfied: packaging>=20.0 in c:\\program files\\python311\\lib\\site-packages (from transformers) (23.2)\n",
      "Requirement already satisfied: pyyaml>=5.1 in c:\\program files\\python311\\lib\\site-packages (from transformers) (6.0.1)\n",
      "Requirement already satisfied: regex!=2019.12.17 in c:\\users\\dsl-189\\appdata\\roaming\\python\\python311\\site-packages (from transformers) (2024.11.6)\n",
      "Requirement already satisfied: requests in c:\\program files\\python311\\lib\\site-packages (from transformers) (2.31.0)\n",
      "Requirement already satisfied: tokenizers<0.22,>=0.21 in c:\\users\\dsl-189\\appdata\\roaming\\python\\python311\\site-packages (from transformers) (0.21.0)\n",
      "Requirement already satisfied: safetensors>=0.4.1 in c:\\users\\dsl-189\\appdata\\roaming\\python\\python311\\site-packages (from transformers) (0.5.2)\n",
      "Requirement already satisfied: tqdm>=4.27 in c:\\users\\dsl-189\\appdata\\roaming\\python\\python311\\site-packages (from transformers) (4.67.1)\n",
      "Requirement already satisfied: fsspec>=2023.5.0 in c:\\program files\\python311\\lib\\site-packages (from huggingface-hub<1.0,>=0.26.0->transformers) (2023.10.0)\n",
      "Requirement already satisfied: typing-extensions>=3.7.4.3 in c:\\users\\dsl-189\\appdata\\roaming\\python\\python311\\site-packages (from huggingface-hub<1.0,>=0.26.0->transformers) (4.12.2)\n",
      "Requirement already satisfied: colorama in c:\\program files\\python311\\lib\\site-packages (from tqdm>=4.27->transformers) (0.4.6)\n",
      "Requirement already satisfied: charset-normalizer<4,>=2 in c:\\program files\\python311\\lib\\site-packages (from requests->transformers) (3.3.1)\n",
      "Requirement already satisfied: idna<4,>=2.5 in c:\\program files\\python311\\lib\\site-packages (from requests->transformers) (3.4)\n",
      "Requirement already satisfied: urllib3<3,>=1.21.1 in c:\\program files\\python311\\lib\\site-packages (from requests->transformers) (2.0.7)\n",
      "Requirement already satisfied: certifi>=2017.4.17 in c:\\program files\\python311\\lib\\site-packages (from requests->transformers) (2023.7.22)\n"
     ]
    },
    {
     "name": "stderr",
     "output_type": "stream",
     "text": [
      "DEPRECATION: Loading egg at c:\\program files\\python311\\lib\\site-packages\\vboxapi-1.0-py3.11.egg is deprecated. pip 25.1 will enforce this behaviour change. A possible replacement is to use pip for package installation. Discussion can be found at https://github.com/pypa/pip/issues/12330\n",
      "\n",
      "[notice] A new release of pip is available: 24.3.1 -> 25.0.1\n",
      "[notice] To update, run: python.exe -m pip install --upgrade pip\n"
     ]
    }
   ],
   "source": [
    "#Importing the packages\n",
    "import pandas as pd\n",
    "import numpy as np\n",
    "import re\n",
    "import nltk\n",
    "!pip install -U spacy\n",
    "import spacy\n",
    "!pip3 install transformers\n",
    "from transformers import pipeline\n",
    "from nltk.corpus import stopwords\n",
    "from wordcloud import WordCloud\n",
    "import matplotlib.pyplot as plt"
   ]
  },
  {
   "cell_type": "code",
   "execution_count": 83,
   "id": "4441f74c-f00f-4855-b919-77c2236a1ae9",
   "metadata": {},
   "outputs": [
    {
     "name": "stdout",
     "output_type": "stream",
     "text": [
      "Defaulting to user installation because normal site-packages is not writeable\n",
      "Collecting en-core-web-sm==3.8.0\n",
      "  Using cached https://github.com/explosion/spacy-models/releases/download/en_core_web_sm-3.8.0/en_core_web_sm-3.8.0-py3-none-any.whl (12.8 MB)\n",
      "\u001b[38;5;2m[+] Download and installation successful\u001b[0m\n",
      "You can now load the package via spacy.load('en_core_web_sm')\n"
     ]
    },
    {
     "name": "stderr",
     "output_type": "stream",
     "text": [
      "DEPRECATION: Loading egg at c:\\program files\\python311\\lib\\site-packages\\vboxapi-1.0-py3.11.egg is deprecated. pip 25.1 will enforce this behaviour change. A possible replacement is to use pip for package installation. Discussion can be found at https://github.com/pypa/pip/issues/12330\n",
      "\n",
      "[notice] A new release of pip is available: 24.3.1 -> 25.0.1\n",
      "[notice] To update, run: python.exe -m pip install --upgrade pip\n"
     ]
    },
    {
     "name": "stdout",
     "output_type": "stream",
     "text": [
      "\n",
      "\u001b[2K\u001b[38;5;2m[+] Loaded compatibility table\u001b[0m\n",
      "\u001b[1m\n",
      "================= Installed pipeline packages (spaCy v3.8.4) =================\u001b[0m\n",
      "\u001b[38;5;4m[i] spaCy installation:\n",
      "C:\\Users\\DSL-189\\AppData\\Roaming\\Python\\Python311\\site-packages\\spacy\u001b[0m\n",
      "\n",
      "NAME             SPACY            VERSION                              \n",
      "en_core_web_sm   >=3.8.0,<3.9.0   \u001b[38;5;2m3.8.0\u001b[0m   \u001b[38;5;2m[+]\u001b[0m\n",
      "\n"
     ]
    }
   ],
   "source": [
    "\n",
    "!python -m spacy download en_core_web_sm\n",
    "\n",
    "!python -m spacy validate"
   ]
  },
  {
   "cell_type": "code",
   "execution_count": 84,
   "id": "365dbd7b-e2ba-4b95-8323-3558735001ee",
   "metadata": {},
   "outputs": [
    {
     "name": "stderr",
     "output_type": "stream",
     "text": [
      "[nltk_data] Downloading package stopwords to\n",
      "[nltk_data]     C:\\Users\\DSL-189\\AppData\\Roaming\\nltk_data...\n",
      "[nltk_data]   Package stopwords is already up-to-date!\n"
     ]
    },
    {
     "data": {
      "text/html": [
       "<div>\n",
       "<style scoped>\n",
       "    .dataframe tbody tr th:only-of-type {\n",
       "        vertical-align: middle;\n",
       "    }\n",
       "\n",
       "    .dataframe tbody tr th {\n",
       "        vertical-align: top;\n",
       "    }\n",
       "\n",
       "    .dataframe thead th {\n",
       "        text-align: right;\n",
       "    }\n",
       "</style>\n",
       "<table border=\"1\" class=\"dataframe\">\n",
       "  <thead>\n",
       "    <tr style=\"text-align: right;\">\n",
       "      <th></th>\n",
       "      <th>MedicalText</th>\n",
       "    </tr>\n",
       "  </thead>\n",
       "  <tbody>\n",
       "    <tr>\n",
       "      <th>0</th>\n",
       "      <td>Patient has a history of hypertension and diab...</td>\n",
       "    </tr>\n",
       "    <tr>\n",
       "      <th>1</th>\n",
       "      <td>Asthma diagnosis confirmed. Patient advised to...</td>\n",
       "    </tr>\n",
       "    <tr>\n",
       "      <th>2</th>\n",
       "      <td>Hypertension patient. Needs regular monitoring...</td>\n",
       "    </tr>\n",
       "    <tr>\n",
       "      <th>3</th>\n",
       "      <td>Diabetes patient. Recommended diet and exercise.</td>\n",
       "    </tr>\n",
       "    <tr>\n",
       "      <th>4</th>\n",
       "      <td>Patient diagnosed with hypertension. Medicatio...</td>\n",
       "    </tr>\n",
       "  </tbody>\n",
       "</table>\n",
       "</div>"
      ],
      "text/plain": [
       "                                         MedicalText\n",
       "0  Patient has a history of hypertension and diab...\n",
       "1  Asthma diagnosis confirmed. Patient advised to...\n",
       "2  Hypertension patient. Needs regular monitoring...\n",
       "3   Diabetes patient. Recommended diet and exercise.\n",
       "4  Patient diagnosed with hypertension. Medicatio..."
      ]
     },
     "execution_count": 84,
     "metadata": {},
     "output_type": "execute_result"
    }
   ],
   "source": [
    "nltk.download('stopwords')\n",
    "nlp = spacy.load(\"en_core_web_sm\")\n",
    "#Sample medical text data\n",
    "medical_texts = [\n",
    "    \"Patient has a history of hypertension and diabetes. Prescribed medication X.\",\n",
    "    \"Asthma diagnosis confirmed. Patient advised to use inhaler daily.\", \n",
    "    \"Hypertension patient. Needs regular monitoring of blood pressure.\",\n",
    "    \"Diabetes patient. Recommended diet and exercise.\",\n",
    "    \"Patient diagnosed with hypertension. Medication Y prescribed.\"\n",
    "]\n",
    "\n",
    "medical_df = pd.DataFrame({'MedicalText' : medical_texts})\n",
    "medical_df.head()"
   ]
  },
  {
   "cell_type": "code",
   "execution_count": 94,
   "id": "54776ee7-c66b-4186-a81c-4c89e5f6ab8c",
   "metadata": {},
   "outputs": [],
   "source": [
    "\n",
    "\n",
    "\n",
    "#Text Preprocessing functions\n",
    "def preprocess_text(text):\n",
    "    text = text.lower()\n",
    "    text = re.sub(r'\\d+', '', text)\n",
    "    text = re.sub(r'\\W+', ' ', text)\n",
    "    text = ' '.join([word for word in text.split() if word not in stopwords.words('english')])\n",
    "    return text"
   ]
  },
  {
   "cell_type": "code",
   "execution_count": 86,
   "id": "67b200d4-4f9c-4c68-887d-ad721d41c295",
   "metadata": {},
   "outputs": [
    {
     "data": {
      "text/html": [
       "<div>\n",
       "<style scoped>\n",
       "    .dataframe tbody tr th:only-of-type {\n",
       "        vertical-align: middle;\n",
       "    }\n",
       "\n",
       "    .dataframe tbody tr th {\n",
       "        vertical-align: top;\n",
       "    }\n",
       "\n",
       "    .dataframe thead th {\n",
       "        text-align: right;\n",
       "    }\n",
       "</style>\n",
       "<table border=\"1\" class=\"dataframe\">\n",
       "  <thead>\n",
       "    <tr style=\"text-align: right;\">\n",
       "      <th></th>\n",
       "      <th>MedicalText</th>\n",
       "      <th>CleanedText</th>\n",
       "    </tr>\n",
       "  </thead>\n",
       "  <tbody>\n",
       "    <tr>\n",
       "      <th>0</th>\n",
       "      <td>Patient has a history of hypertension and diab...</td>\n",
       "      <td>patienthasahistoryofhypertensionanddiabetespre...</td>\n",
       "    </tr>\n",
       "    <tr>\n",
       "      <th>1</th>\n",
       "      <td>Asthma diagnosis confirmed. Patient advised to...</td>\n",
       "      <td>asthmadiagnosisconfirmedpatientadvisedtouseinh...</td>\n",
       "    </tr>\n",
       "    <tr>\n",
       "      <th>2</th>\n",
       "      <td>Hypertension patient. Needs regular monitoring...</td>\n",
       "      <td>hypertensionpatientneedsregularmonitoringofblo...</td>\n",
       "    </tr>\n",
       "    <tr>\n",
       "      <th>3</th>\n",
       "      <td>Diabetes patient. Recommended diet and exercise.</td>\n",
       "      <td>diabetespatientrecommendeddietandexercise</td>\n",
       "    </tr>\n",
       "    <tr>\n",
       "      <th>4</th>\n",
       "      <td>Patient diagnosed with hypertension. Medicatio...</td>\n",
       "      <td>patientdiagnosedwithhypertensionmedicationypre...</td>\n",
       "    </tr>\n",
       "  </tbody>\n",
       "</table>\n",
       "</div>"
      ],
      "text/plain": [
       "                                         MedicalText  \\\n",
       "0  Patient has a history of hypertension and diab...   \n",
       "1  Asthma diagnosis confirmed. Patient advised to...   \n",
       "2  Hypertension patient. Needs regular monitoring...   \n",
       "3   Diabetes patient. Recommended diet and exercise.   \n",
       "4  Patient diagnosed with hypertension. Medicatio...   \n",
       "\n",
       "                                         CleanedText  \n",
       "0  patienthasahistoryofhypertensionanddiabetespre...  \n",
       "1  asthmadiagnosisconfirmedpatientadvisedtouseinh...  \n",
       "2  hypertensionpatientneedsregularmonitoringofblo...  \n",
       "3          diabetespatientrecommendeddietandexercise  \n",
       "4  patientdiagnosedwithhypertensionmedicationypre...  "
      ]
     },
     "execution_count": 86,
     "metadata": {},
     "output_type": "execute_result"
    }
   ],
   "source": [
    "#Applying Preprocessing  to medical texts\n",
    "medical_df['CleanedText'] = medical_df['MedicalText'].apply(preprocess_text)\n",
    "medical_df.head()"
   ]
  },
  {
   "cell_type": "code",
   "execution_count": 87,
   "id": "efeeab02-7a7d-444b-8fcb-7de31ee48388",
   "metadata": {},
   "outputs": [],
   "source": [
    "# Perform NER using spaCy\n",
    "def extract_entities(text):\n",
    "    doc = nlp(text)\n",
    "    return [(ent.text, ent.label_) for ent in doc.ents]"
   ]
  },
  {
   "cell_type": "code",
   "execution_count": 88,
   "id": "eeb0a8aa-0968-41d1-aee5-cd557d81133d",
   "metadata": {},
   "outputs": [
    {
     "data": {
      "text/html": [
       "<div>\n",
       "<style scoped>\n",
       "    .dataframe tbody tr th:only-of-type {\n",
       "        vertical-align: middle;\n",
       "    }\n",
       "\n",
       "    .dataframe tbody tr th {\n",
       "        vertical-align: top;\n",
       "    }\n",
       "\n",
       "    .dataframe thead th {\n",
       "        text-align: right;\n",
       "    }\n",
       "</style>\n",
       "<table border=\"1\" class=\"dataframe\">\n",
       "  <thead>\n",
       "    <tr style=\"text-align: right;\">\n",
       "      <th></th>\n",
       "      <th>MedicalText</th>\n",
       "      <th>CleanedText</th>\n",
       "      <th>Entities</th>\n",
       "    </tr>\n",
       "  </thead>\n",
       "  <tbody>\n",
       "    <tr>\n",
       "      <th>0</th>\n",
       "      <td>Patient has a history of hypertension and diab...</td>\n",
       "      <td>patienthasahistoryofhypertensionanddiabetespre...</td>\n",
       "      <td>[(X., NORP)]</td>\n",
       "    </tr>\n",
       "    <tr>\n",
       "      <th>1</th>\n",
       "      <td>Asthma diagnosis confirmed. Patient advised to...</td>\n",
       "      <td>asthmadiagnosisconfirmedpatientadvisedtouseinh...</td>\n",
       "      <td>[(daily, DATE)]</td>\n",
       "    </tr>\n",
       "    <tr>\n",
       "      <th>2</th>\n",
       "      <td>Hypertension patient. Needs regular monitoring...</td>\n",
       "      <td>hypertensionpatientneedsregularmonitoringofblo...</td>\n",
       "      <td>[]</td>\n",
       "    </tr>\n",
       "    <tr>\n",
       "      <th>3</th>\n",
       "      <td>Diabetes patient. Recommended diet and exercise.</td>\n",
       "      <td>diabetespatientrecommendeddietandexercise</td>\n",
       "      <td>[]</td>\n",
       "    </tr>\n",
       "    <tr>\n",
       "      <th>4</th>\n",
       "      <td>Patient diagnosed with hypertension. Medicatio...</td>\n",
       "      <td>patientdiagnosedwithhypertensionmedicationypre...</td>\n",
       "      <td>[]</td>\n",
       "    </tr>\n",
       "  </tbody>\n",
       "</table>\n",
       "</div>"
      ],
      "text/plain": [
       "                                         MedicalText  \\\n",
       "0  Patient has a history of hypertension and diab...   \n",
       "1  Asthma diagnosis confirmed. Patient advised to...   \n",
       "2  Hypertension patient. Needs regular monitoring...   \n",
       "3   Diabetes patient. Recommended diet and exercise.   \n",
       "4  Patient diagnosed with hypertension. Medicatio...   \n",
       "\n",
       "                                         CleanedText         Entities  \n",
       "0  patienthasahistoryofhypertensionanddiabetespre...     [(X., NORP)]  \n",
       "1  asthmadiagnosisconfirmedpatientadvisedtouseinh...  [(daily, DATE)]  \n",
       "2  hypertensionpatientneedsregularmonitoringofblo...               []  \n",
       "3          diabetespatientrecommendeddietandexercise               []  \n",
       "4  patientdiagnosedwithhypertensionmedicationypre...               []  "
      ]
     },
     "execution_count": 88,
     "metadata": {},
     "output_type": "execute_result"
    }
   ],
   "source": [
    "#Extract entities from medical texts\n",
    "medical_df['Entities'] = medical_df['MedicalText'].apply(extract_entities)\n",
    "medical_df.head()"
   ]
  },
  {
   "cell_type": "code",
   "execution_count": 89,
   "id": "5b7a5987-c460-4c58-a134-a8228e268dde",
   "metadata": {},
   "outputs": [
    {
     "name": "stderr",
     "output_type": "stream",
     "text": [
      "No model was supplied, defaulted to distilbert/distilbert-base-uncased-finetuned-sst-2-english and revision 714eb0f (https://huggingface.co/distilbert/distilbert-base-uncased-finetuned-sst-2-english).\n",
      "Using a pipeline without specifying a model name and revision in production is not recommended.\n",
      "Device set to use cpu\n"
     ]
    }
   ],
   "source": [
    "#Load Sentiment Analysis Pipeline\n",
    "sentiment_pipeline = pipeline('sentiment-analysis')"
   ]
  },
  {
   "cell_type": "code",
   "execution_count": 90,
   "id": "06288d6f-92b9-4845-8ba8-36a512c44bd5",
   "metadata": {},
   "outputs": [
    {
     "data": {
      "text/html": [
       "<div>\n",
       "<style scoped>\n",
       "    .dataframe tbody tr th:only-of-type {\n",
       "        vertical-align: middle;\n",
       "    }\n",
       "\n",
       "    .dataframe tbody tr th {\n",
       "        vertical-align: top;\n",
       "    }\n",
       "\n",
       "    .dataframe thead th {\n",
       "        text-align: right;\n",
       "    }\n",
       "</style>\n",
       "<table border=\"1\" class=\"dataframe\">\n",
       "  <thead>\n",
       "    <tr style=\"text-align: right;\">\n",
       "      <th></th>\n",
       "      <th>MedicalText</th>\n",
       "      <th>CleanedText</th>\n",
       "      <th>Entities</th>\n",
       "      <th>Sentiment</th>\n",
       "    </tr>\n",
       "  </thead>\n",
       "  <tbody>\n",
       "    <tr>\n",
       "      <th>0</th>\n",
       "      <td>Patient has a history of hypertension and diab...</td>\n",
       "      <td>patienthasahistoryofhypertensionanddiabetespre...</td>\n",
       "      <td>[(X., NORP)]</td>\n",
       "      <td>{'label': 'NEGATIVE', 'score': 0.9301784634590...</td>\n",
       "    </tr>\n",
       "    <tr>\n",
       "      <th>1</th>\n",
       "      <td>Asthma diagnosis confirmed. Patient advised to...</td>\n",
       "      <td>asthmadiagnosisconfirmedpatientadvisedtouseinh...</td>\n",
       "      <td>[(daily, DATE)]</td>\n",
       "      <td>{'label': 'NEGATIVE', 'score': 0.965029776096344}</td>\n",
       "    </tr>\n",
       "    <tr>\n",
       "      <th>2</th>\n",
       "      <td>Hypertension patient. Needs regular monitoring...</td>\n",
       "      <td>hypertensionpatientneedsregularmonitoringofblo...</td>\n",
       "      <td>[]</td>\n",
       "      <td>{'label': 'NEGATIVE', 'score': 0.9974162578582...</td>\n",
       "    </tr>\n",
       "    <tr>\n",
       "      <th>3</th>\n",
       "      <td>Diabetes patient. Recommended diet and exercise.</td>\n",
       "      <td>diabetespatientrecommendeddietandexercise</td>\n",
       "      <td>[]</td>\n",
       "      <td>{'label': 'POSITIVE', 'score': 0.9713227152824...</td>\n",
       "    </tr>\n",
       "    <tr>\n",
       "      <th>4</th>\n",
       "      <td>Patient diagnosed with hypertension. Medicatio...</td>\n",
       "      <td>patientdiagnosedwithhypertensionmedicationypre...</td>\n",
       "      <td>[]</td>\n",
       "      <td>{'label': 'NEGATIVE', 'score': 0.9683874845504...</td>\n",
       "    </tr>\n",
       "  </tbody>\n",
       "</table>\n",
       "</div>"
      ],
      "text/plain": [
       "                                         MedicalText  \\\n",
       "0  Patient has a history of hypertension and diab...   \n",
       "1  Asthma diagnosis confirmed. Patient advised to...   \n",
       "2  Hypertension patient. Needs regular monitoring...   \n",
       "3   Diabetes patient. Recommended diet and exercise.   \n",
       "4  Patient diagnosed with hypertension. Medicatio...   \n",
       "\n",
       "                                         CleanedText         Entities  \\\n",
       "0  patienthasahistoryofhypertensionanddiabetespre...     [(X., NORP)]   \n",
       "1  asthmadiagnosisconfirmedpatientadvisedtouseinh...  [(daily, DATE)]   \n",
       "2  hypertensionpatientneedsregularmonitoringofblo...               []   \n",
       "3          diabetespatientrecommendeddietandexercise               []   \n",
       "4  patientdiagnosedwithhypertensionmedicationypre...               []   \n",
       "\n",
       "                                           Sentiment  \n",
       "0  {'label': 'NEGATIVE', 'score': 0.9301784634590...  \n",
       "1  {'label': 'NEGATIVE', 'score': 0.965029776096344}  \n",
       "2  {'label': 'NEGATIVE', 'score': 0.9974162578582...  \n",
       "3  {'label': 'POSITIVE', 'score': 0.9713227152824...  \n",
       "4  {'label': 'NEGATIVE', 'score': 0.9683874845504...  "
      ]
     },
     "execution_count": 90,
     "metadata": {},
     "output_type": "execute_result"
    }
   ],
   "source": [
    "#Perform sentiment analysis on medical texts\n",
    "medical_df['Sentiment'] = medical_df['MedicalText'].apply(lambda x:sentiment_pipeline(x)[0])\n",
    "medical_df.head()"
   ]
  },
  {
   "cell_type": "code",
   "execution_count": 97,
   "id": "69e129fb-c6ac-461b-a0ed-25e4c51c7e62",
   "metadata": {},
   "outputs": [],
   "source": [
    "#Generate WordCloud\n",
    "all_text = ' '.join(medical_df['CleanedText'])\n",
    "wordcloud = WordCloud(width=800, height=400, background_color='white').generate(all_text)"
   ]
  },
  {
   "cell_type": "code",
   "execution_count": 100,
   "id": "d896cd08-1884-45c6-ab6c-b49b89311186",
   "metadata": {},
   "outputs": [
    {
     "data": {
      "image/png": "[encoded data removed]",
      "text/plain": [
       "<Figure size 1000x500 with 1 Axes>"
      ]
     },
     "metadata": {},
     "output_type": "display_data"
    }
   ],
   "source": [
    "#Display the wordcloud\n",
    "plt.figure(figsize=(10, 5))\n",
    "plt.imshow(wordcloud, interpolation='bilinear')\n",
    "plt.axis('off')\n",
    "plt.title('Word Cloud of Medical Texts')\n",
    "plt.show()\n",
    "# Extract Insights\n",
    "def extract_insights(row):\n",
    "    entities = row['Entities']\n",
    "    sentiment = row['Sentiment']\n",
    "    return {\n",
    "        'Entities' : entities,\n",
    "        'Sentiment' : sentiment['label'],\n",
    "        'SentimentScore' : sentiment['score']\n",
    "    }\n"
   ]
  },
  {
   "cell_type": "code",
   "execution_count": 101,
   "id": "e1157706-d89b-488a-b993-3f9b8eb98723",
   "metadata": {},
   "outputs": [
    {
     "data": {
      "text/html": [
       "<div>\n",
       "<style scoped>\n",
       "    .dataframe tbody tr th:only-of-type {\n",
       "        vertical-align: middle;\n",
       "    }\n",
       "\n",
       "    .dataframe tbody tr th {\n",
       "        vertical-align: top;\n",
       "    }\n",
       "\n",
       "    .dataframe thead th {\n",
       "        text-align: right;\n",
       "    }\n",
       "</style>\n",
       "<table border=\"1\" class=\"dataframe\">\n",
       "  <thead>\n",
       "    <tr style=\"text-align: right;\">\n",
       "      <th></th>\n",
       "      <th>MedicalText</th>\n",
       "      <th>Insights</th>\n",
       "    </tr>\n",
       "  </thead>\n",
       "  <tbody>\n",
       "    <tr>\n",
       "      <th>0</th>\n",
       "      <td>Patient has a history of hypertension and diab...</td>\n",
       "      <td>{'Entities': [('X.', 'NORP')], 'Sentiment': 'N...</td>\n",
       "    </tr>\n",
       "    <tr>\n",
       "      <th>1</th>\n",
       "      <td>Asthma diagnosis confirmed. Patient advised to...</td>\n",
       "      <td>{'Entities': [('daily', 'DATE')], 'Sentiment':...</td>\n",
       "    </tr>\n",
       "    <tr>\n",
       "      <th>2</th>\n",
       "      <td>Hypertension patient. Needs regular monitoring...</td>\n",
       "      <td>{'Entities': [], 'Sentiment': 'NEGATIVE', 'Sen...</td>\n",
       "    </tr>\n",
       "    <tr>\n",
       "      <th>3</th>\n",
       "      <td>Diabetes patient. Recommended diet and exercise.</td>\n",
       "      <td>{'Entities': [], 'Sentiment': 'POSITIVE', 'Sen...</td>\n",
       "    </tr>\n",
       "    <tr>\n",
       "      <th>4</th>\n",
       "      <td>Patient diagnosed with hypertension. Medicatio...</td>\n",
       "      <td>{'Entities': [], 'Sentiment': 'NEGATIVE', 'Sen...</td>\n",
       "    </tr>\n",
       "  </tbody>\n",
       "</table>\n",
       "</div>"
      ],
      "text/plain": [
       "                                         MedicalText  \\\n",
       "0  Patient has a history of hypertension and diab...   \n",
       "1  Asthma diagnosis confirmed. Patient advised to...   \n",
       "2  Hypertension patient. Needs regular monitoring...   \n",
       "3   Diabetes patient. Recommended diet and exercise.   \n",
       "4  Patient diagnosed with hypertension. Medicatio...   \n",
       "\n",
       "                                            Insights  \n",
       "0  {'Entities': [('X.', 'NORP')], 'Sentiment': 'N...  \n",
       "1  {'Entities': [('daily', 'DATE')], 'Sentiment':...  \n",
       "2  {'Entities': [], 'Sentiment': 'NEGATIVE', 'Sen...  \n",
       "3  {'Entities': [], 'Sentiment': 'POSITIVE', 'Sen...  \n",
       "4  {'Entities': [], 'Sentiment': 'NEGATIVE', 'Sen...  "
      ]
     },
     "execution_count": 101,
     "metadata": {},
     "output_type": "execute_result"
    }
   ],
   "source": [
    "medical_df['Insights'] = medical_df.apply(extract_insights, axis=1)\n",
    "medical_df[['MedicalText', 'Insights']].head()"
   ]
  },
  {
   "cell_type": "code",
   "execution_count": null,
   "id": "a8c422f9-fb64-4b79-bdd9-d025eed22337",
   "metadata": {},
   "outputs": [],
   "source": []
  }
 ],
 "metadata": {
  "kernelspec": {
   "display_name": "Python 3 (ipykernel)",
   "language": "python",
   "name": "python3"
  },
  "language_info": {
   "codemirror_mode": {
    "name": "ipython",
    "version": 3
   },
   "file_extension": ".py",
   "mimetype": "text/x-python",
   "name": "python",
   "nbconvert_exporter": "python",
   "pygments_lexer": "ipython3",
   "version": "3.11.4"
  }
 },
 "nbformat": 4,
 "nbformat_minor": 5
}
